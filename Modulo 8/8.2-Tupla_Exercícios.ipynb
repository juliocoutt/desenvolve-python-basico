{
 "cells": [
  {
   "cell_type": "markdown",
   "id": "0d5035b5",
   "metadata": {},
   "source": [
    "# Tupla\n",
    "\n",
    "## Aula 8.2"
   ]
  },
  {
   "cell_type": "markdown",
   "id": "0bdece85",
   "metadata": {},
   "source": [
    "### Q1. \n",
    "\n",
    "Escreva uma função ```calcula_area_perimetro``` que recebe **apenas um parâmetro** ```dimensoes``` e calcula a área e o perímetro a partir das dimensões dadas. \n",
    "- ```dimensoes``` é uma tupla (largura, comprimento) com as dimensões de um terreno retangular\n",
    "- Sua função deve calcular e retornar as seguintes operações\n",
    "   - $area = largura \\times comprimento$\n",
    "   - $perimetro = 2\\times(largura + comprimento)$\n"
   ]
  },
  {
   "cell_type": "code",
   "execution_count": null,
   "id": "0a258eba",
   "metadata": {},
   "outputs": [],
   "source": [
    "# Implemente aqui a função calcula_area_perimetro\n",
    "def calcula_area_perimetro(dimensoes):\n",
    "    largura, comprimento = dimensoes\n",
    "    area = largura * comprimento\n",
    "    perimetro = 2 * (largura + comprimento)\n",
    "    return area, perimetro\n",
    "\n",
    "# Exemplo de uso\n",
    "largura = 5\n",
    "comprimento = 7\n",
    "dimensoes = (largura, comprimento)\n",
    "\n",
    "retorno = calcula_area_perimetro(dimensoes)\n",
    "print(retorno, type(retorno))\n"
   ]
  },
  {
   "cell_type": "code",
   "execution_count": null,
   "id": "e1866c04",
   "metadata": {},
   "outputs": [],
   "source": [
    "# Complete o exemplo de uso abaixo\n",
    "largura = 5\n",
    "comprimento = 7\n",
    "\n",
    "retorno = ## complete aqui a chamada da função\n",
    "print(retorno, type(retorno))"
   ]
  },
  {
   "cell_type": "markdown",
   "id": "cbdcb986",
   "metadata": {},
   "source": [
    "### Q2.\n",
    "\n",
    "Dada uma string, imprima todas as vogais que aparecem na string, bem como todos os índices onde elas ocorrem. Para isso, use a função ```enumerate```.\n"
   ]
  },
  {
   "cell_type": "code",
   "execution_count": null,
   "id": "1f6b1f2d",
   "metadata": {},
   "outputs": [],
   "source": [
    "\n",
    "frase = \"O rato roeu a roupa da Alice\"\n",
    "\n",
    "# Define uma lista de vogais\n",
    "vogais = \"aeiouAEIOU\"\n",
    "\n",
    "# Itera sobre a string usando a função enumerate()\n",
    "for indice, caractere in enumerate(frase):\n",
    "    # Verifica se o caractere é uma vogal\n",
    "    if caractere in vogais:\n",
    "        # Se sim, imprime o caractere e seu índice\n",
    "        print(f\"Vogal: {caractere}, Índice: {indice}\")\n"
   ]
  },
  {
   "cell_type": "markdown",
   "id": "8d46663f",
   "metadata": {},
   "source": [
    "### Q3.\n",
    "\n",
    "Escreva uma função em Python chamada ```ordenar_tuplas``` que recebe uma lista de tuplas, cada uma contendo o nome de um aluno e sua respectiva média, e retorna uma nova lista ordenada em ordem decrescente de médias."
   ]
  },
  {
   "cell_type": "code",
   "execution_count": null,
   "id": "469f2e6e",
   "metadata": {},
   "outputs": [],
   "source": [
    "# Implemente aqui a função ordenar_tuplas\n",
    "\n",
    "def ordenar_tuplas(lista_tuplas):\n",
    "    # Usa a função sorted para ordenar a lista de tuplas em ordem decrescente de médias\n",
    "    return sorted(lista_tuplas, key=lambda tupla: tupla[1], reverse=True)\n",
    "\n",
    "# Exemplo de uso\n",
    "alunos_notas = [('Alice', 8.5), ('Bob', 7.2), ('Charlie', 9.0), ('David', 8.8)]\n",
    "resultado = ordenar_tuplas(alunos_notas)\n",
    "print(resultado)\n"
   ]
  },
  {
   "cell_type": "code",
   "execution_count": null,
   "id": "1972c62b",
   "metadata": {},
   "outputs": [],
   "source": [
    "# Exemplo de uso:\n",
    "alunos_notas = [('Alice', 8.5), ('Bob', 7.2), ('Charlie', 9.0), ('David', 8.8)]\n",
    "resultado = ordenar_tuplas(alunos_notas)\n",
    "print(resultado)\n",
    "# Saída esperada: [('Charlie', 9.0), ('David', 8.8), ('Alice', 8.5), ('Bob', 7.2)]"
   ]
  },
  {
   "cell_type": "markdown",
   "id": "e0268fae",
   "metadata": {},
   "source": [
    "### Q4.\n",
    "\n",
    "Escreva uma função em Python chamada ```comprimir_tuplas``` que recebe uma lista de tuplas, cada uma contendo uma palavra e um número, e retorna uma nova lista de tuplas onde palavras idênticas são agrupadas e seus números são somados.\n",
    "\n"
   ]
  },
  {
   "cell_type": "code",
   "execution_count": null,
   "id": "30a221f3",
   "metadata": {},
   "outputs": [],
   "source": [
    "# Implemente aqui a função comprimir_tuplas\n",
    "\n",
    "def comprimir_tuplas(lista_tuplas):\n",
    "    # Dicionário para armazenar a soma dos números correspondentes a cada palavra\n",
    "    dicionario_comprimido = {}\n",
    "\n",
    "    # Percorre as tuplas originais\n",
    "    for palavra, numero in lista_tuplas:\n",
    "        # Se a palavra já estiver no dicionário, soma o número correspondente\n",
    "        if palavra in dicionario_comprimido:\n",
    "            dicionario_comprimido[palavra] += numero\n",
    "        # Caso contrário, adiciona a palavra ao dicionário com o número correspondente\n",
    "        else:\n",
    "            dicionario_comprimido[palavra] = numero\n",
    "\n",
    "    # Converte o dicionário de volta para uma lista de tuplas\n",
    "    lista_comprimida = [(palavra, numero) for palavra, numero in dicionario_comprimido.items()]\n",
    "\n",
    "    return lista_comprimida\n",
    "\n"
   ]
  },
  {
   "cell_type": "code",
   "execution_count": null,
   "id": "80972bac",
   "metadata": {},
   "outputs": [],
   "source": [
    "# Exemplo de uso:\n",
    "tuplas_originais = [('maçã', 3), ('banana', 2), ('maçã', 5), ('laranja', 1), ('banana', 3)]\n",
    "resultado = comprimir_tuplas(tuplas_originais)\n",
    "print(resultado)\n",
    "# Saída esperada: [('maçã', 8), ('banana', 5), ('laranja', 1)]"
   ]
  },
  {
   "cell_type": "markdown",
   "id": "649a5082",
   "metadata": {},
   "source": [
    "### Q5. \n",
    "\n",
    "- Escreva um script que peça o nome e a idade de todos na fila de uma balada. Crie uma lista de tuplas com os pares ```(nome, idade)``` de cada um. \n",
    "- Em seguida crie e imprima duas tuplas apenas com os nomes, uma com os menores de idade que não poderão entrar, e uma com os maiores de idade (```idade >= 18```). \n",
    "\n"
   ]
  },
  {
   "cell_type": "code",
   "execution_count": null,
   "id": "47cb0573",
   "metadata": {},
   "outputs": [],
   "source": [
    "## Implemente aqui sua solução\n",
    "\n",
    "# Solicita o número de pessoas na fila\n",
    "num_pessoas = int(input(\"Quantas pessoas estão na fila da balada? \"))\n",
    "\n",
    "# Lista para armazenar os pares (nome, idade)\n",
    "fila_balada = []\n",
    "\n",
    "# Solicita o nome e a idade de cada pessoa e adiciona à lista\n",
    "for i in range(num_pessoas):\n",
    "    nome = input(f\"Digite o nome da {i+1}ª pessoa: \")\n",
    "    idade = int(input(f\"Digite a idade de {nome}: \"))\n",
    "    fila_balada.append((nome, idade))\n",
    "\n",
    "# Separa as tuplas com base na idade\n",
    "menores_de_idade = [(nome, idade) for nome, idade in fila_balada if idade < 18]\n",
    "maiores_de_idade = [(nome, idade) for nome, idade in fila_balada if idade >= 18]\n",
    "\n",
    "# Imprime as tuplas com os nomes\n",
    "print(\"Pessoas menores de idade (não podem entrar na balada):\")\n",
    "for nome, idade in menores_de_idade:\n",
    "    print(nome)\n",
    "\n",
    "print(\"\\nPessoas maiores de idade (podem entrar na balada):\")\n",
    "for nome, idade in maiores_de_idade:\n",
    "    print(nome)\n"
   ]
  }
 ],
 "metadata": {
  "kernelspec": {
   "display_name": "Python 3 (ipykernel)",
   "language": "python",
   "name": "python3"
  },
  "language_info": {
   "codemirror_mode": {
    "name": "ipython",
    "version": 3
   },
   "file_extension": ".py",
   "mimetype": "text/x-python",
   "name": "python",
   "nbconvert_exporter": "python",
   "pygments_lexer": "ipython3",
   "version": "3.9.6"
  }
 },
 "nbformat": 4,
 "nbformat_minor": 5
}
