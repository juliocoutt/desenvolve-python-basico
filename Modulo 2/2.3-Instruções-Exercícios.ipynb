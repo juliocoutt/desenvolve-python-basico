{
 "cells": [
  {
   "cell_type": "markdown",
   "metadata": {
    "id": "1pCTdOHonv5f"
   },
   "source": [
    "# Módulo 2\n",
    "\n",
    "## 2.3 Instruções e Expressões\n",
    "\n",
    "### Q1\n",
    "\n",
    "Faça um programa que armazene o valor de 20 reais de salário por hora de um trabalhador, e o número de 40 horas trabalhadas na semana. Com essas informações, calcule e imprima:\n",
    "- Salário semanal bruto\n",
    "- Valor descontado por semana INSS (10% do bruto)\n",
    "- Valor descontado por semana pelo sindicato (5% do bruto)\n",
    "- Salário semanal líquido (Bruto - Descontos)"
   ]
  },
  {
   "cell_type": "code",
   "execution_count": 8,
   "metadata": {
    "id": "hVbX0I97nj6M"
   },
   "outputs": [
    {
     "name": "stdout",
     "output_type": "stream",
     "text": [
      "Seu Sálario Bruto semanal em reais é de: \n",
      "800\n",
      "O desaconto do INSS semanal em reais é de: \n",
      "80.0\n",
      "O desaconto do Sindicato semanal em reais é de: \n",
      "40.0\n",
      "Seu Sálario liquido semanal em reais é de: \n",
      "680.0\n"
     ]
    }
   ],
   "source": [
    "salario_hora=20\n",
    "carga_horaria=40\n",
    "\n",
    "#calculo do salario bruto\n",
    "salario_bruto=salario_hora*carga_horaria\n",
    "\n",
    "#INSS\n",
    "desconto_inss= salario_bruto*0.10\n",
    "\n",
    "#Desconto Sindicato\n",
    "desconto_sindicato =salario_bruto*0.05\n",
    "\n",
    "#Liquido final\n",
    "salario_liquido = salario_bruto - desconto_inss -desconto_sindicato\n",
    "\n",
    "print (\"Seu Sálario Bruto semanal em reais é de: \")\n",
    "print (salario_bruto)\n",
    "\n",
    "print (\"O desaconto do INSS semanal em reais é de: \")\n",
    "print (desconto_inss)\n",
    "\n",
    "print (\"O desaconto do Sindicato semanal em reais é de: \")\n",
    "print (desconto_sindicato)\n",
    "\n",
    "\n",
    "print (\"Seu Sálario liquido semanal em reais é de: \")\n",
    "print (salario_liquido)\n",
    "\n",
    "\n"
   ]
  },
  {
   "cell_type": "markdown",
   "metadata": {
    "id": "pIxKX9J2oGZ1"
   },
   "source": [
    "### Q2\n",
    "\n",
    "Altere o programa anterior para a partir dos valores de horas trabalhadas por semana e salário por hora, calcular **em somente duas instruções**:\n",
    "- Salário semanal bruto\n",
    "- Salário semanal líquido com todos os descontos. Para a segunda instrução, realize todos os cálculos aritméticos em uma expressão composta.\n"
   ]
  },
  {
   "cell_type": "code",
   "execution_count": 14,
   "metadata": {
    "id": "pAHw9Xf9oGoi"
   },
   "outputs": [
    {
     "name": "stdout",
     "output_type": "stream",
     "text": [
      "Seu Sálario liquido semanal em reais é de: \n",
      "680.0\n"
     ]
    }
   ],
   "source": [
    "salario_bruto = 20*40\n",
    "print (\"Seu Sálario liquido semanal em reais é de: \")\n",
    "print (salario_liquido = (salario_bruto - ((salario_bruto*0.05)+salario_bruto*0.10)))\n"
   ]
  },
  {
   "cell_type": "markdown",
   "metadata": {
    "id": "m8tlHRuWpBOB"
   },
   "source": [
    "### Q3\n",
    "\n",
    "Você está desenvolvendo um software de conversão de moeda e precisa calcular o valor equivalente em yuan chinês a partir de uma quantia em real. A taxa de câmbio é de 0.69 BRL (real) para 1 CNY (yuan). Escreva um programa que define em uma variável uma quantia em reais (BRL) e calcula o valor equivalente em yuan (CNY). Imprima o resultado."
   ]
  },
  {
   "cell_type": "code",
   "execution_count": 24,
   "metadata": {
    "id": "2bPw7uF6oeL9"
   },
   "outputs": [
    {
     "name": "stdout",
     "output_type": "stream",
     "text": [
      "O valor de R$ 1658 \n",
      "O valor convertido em CNY é de 2402 \n"
     ]
    }
   ],
   "source": [
    "\n",
    "real=1658\n",
    "print (\"O valor de R$ %d \" % real)\n",
    "\n",
    "convertido=1658/0.69\n",
    "\n",
    "print (\"O valor convertido em CNY é de %d \" % convertido) \n"
   ]
  },
  {
   "cell_type": "markdown",
   "metadata": {
    "id": "-Na3ltDCp74A"
   },
   "source": [
    "### Q4\n",
    "\n",
    "Você é um treinador de corrida e deseja calcular a velocidade média que um atleta precisa manter para completar a Maratona Internacional de São Silvestre, que tem uma distância total de 42.195 km. A fórmula para calcular a velocidade média ($v\\_media$) é dada por $v\\_media = \\frac{distancia}{tempo}$ . Escreva um programa em Python para calcular a velocidade média necessária para completar a maratona em 3 horas.\n",
    "\n",
    "**Calcule e imprima o resultado em metros/segundo**, ou seja, converta a distância de quilômetros para metros ($metro = \\frac{km}{1000}$) e a velocidade de horas para segundos $(segundo = \\frac{hora}{3600})$."
   ]
  },
  {
   "cell_type": "code",
   "execution_count": 1,
   "metadata": {
    "id": "Bn6l8kcSrE4L"
   },
   "outputs": [
    {
     "name": "stdout",
     "output_type": "stream",
     "text": [
      " A velocidade média em m/s é de 50\n"
     ]
    }
   ],
   "source": [
    "42.195/3\n",
    "\n",
    "metros=  42.195/1000\n",
    "segundos= 3/3600\n",
    "\n",
    "v_media=metros/segundos\n",
    "\n",
    "print (\" A velocidade média em m/s é de %d\" % v_media)\n"
   ]
  },
  {
   "cell_type": "code",
   "execution_count": null,
   "metadata": {},
   "outputs": [],
   "source": []
  }
 ],
 "metadata": {
  "colab": {
   "provenance": []
  },
  "kernelspec": {
   "display_name": "Python 3 (ipykernel)",
   "language": "python",
   "name": "python3"
  },
  "language_info": {
   "codemirror_mode": {
    "name": "ipython",
    "version": 3
   },
   "file_extension": ".py",
   "mimetype": "text/x-python",
   "name": "python",
   "nbconvert_exporter": "python",
   "pygments_lexer": "ipython3",
   "version": "3.12.0"
  }
 },
 "nbformat": 4,
 "nbformat_minor": 4
}
