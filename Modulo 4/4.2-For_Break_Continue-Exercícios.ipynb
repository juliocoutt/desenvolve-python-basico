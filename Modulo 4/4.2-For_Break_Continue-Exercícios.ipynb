{
 "cells": [
  {
   "cell_type": "markdown",
   "id": "29e89030",
   "metadata": {},
   "source": [
    "# Módulo 4 - Repetições\n",
    "\n",
    "## Aulas 4.2 - Comando ```for``` e 4.3 Break e Continue"
   ]
  },
  {
   "cell_type": "markdown",
   "id": "a45b42df",
   "metadata": {},
   "source": [
    "### Q1.\n",
    "\n",
    "Crie um programa em Python que utilize o comando for para imprimir os números de 10 a 1, em ordem decrescente."
   ]
  },
  {
   "cell_type": "code",
   "execution_count": 4,
   "id": "55a75b3d",
   "metadata": {},
   "outputs": [
    {
     "name": "stdout",
     "output_type": "stream",
     "text": [
      "10\n",
      "9\n",
      "8\n",
      "7\n",
      "6\n",
      "5\n",
      "4\n",
      "3\n",
      "2\n",
      "1\n"
     ]
    }
   ],
   "source": [
    "## Escreva e execute seu código aqui\n",
    "# Usando o loop for para imprimir números de 10 a 1 em ordem decrescente\n",
    "for i in range(10, 0, -1):\n",
    "    print(i)\n"
   ]
  },
  {
   "cell_type": "markdown",
   "id": "94b47c36",
   "metadata": {},
   "source": [
    "### Q2.\n",
    "\n",
    "Dado um número inteiro positivo informado pelo usuário, crie um programa em Python que utilize o comando for para calcular e exibir a soma dos números de 1 até o número informado. Ou seja, $1 + 2 + 3 + ... + n$\n",
    "\n",
    "Exemplo de interação:\n",
    "```\n",
    "Digite um número: 5\n",
    "A soma dos números de 1 a 5 é 15\n",
    "```\n"
   ]
  },
  {
   "cell_type": "code",
   "execution_count": 5,
   "id": "45b71596",
   "metadata": {},
   "outputs": [
    {
     "name": "stdout",
     "output_type": "stream",
     "text": [
      "A soma dos números de 1 até 10 é 55\n"
     ]
    }
   ],
   "source": [
    "## Escreva e execute seu código aqui\n",
    "# Solicita ao usuário um número inteiro positivo\n",
    "n = int(input(\"Digite um número inteiro positivo: \"))\n",
    "\n",
    "# Inicializa a variável que armazenará a soma\n",
    "soma = 0\n",
    "\n",
    "# Usa o loop for para calcular a soma dos números de 1 até n\n",
    "for i in range(1, n + 1):\n",
    "    soma += i\n",
    "\n",
    "# Exibe a soma calculada\n",
    "print(\"A soma dos números de 1 até {} é {}\".format(n, soma))\n"
   ]
  },
  {
   "cell_type": "markdown",
   "id": "0411d170",
   "metadata": {},
   "source": [
    "### Q3.\n",
    "\n",
    "Escreva um programa que lê 10 valores inteiros positivos do usuário e ao final imprime a média dos valores digitados com duas casas decimais.\n",
    "\n",
    "```\n",
    "Digite 10 números positivos:\n",
    "3\n",
    "2\n",
    "12\n",
    "14\n",
    "20\n",
    "42\n",
    "19\n",
    "0\n",
    "8\n",
    "1\n",
    "A média dos valores digitados é 12.10\n",
    "```"
   ]
  },
  {
   "cell_type": "code",
   "execution_count": null,
   "id": "3f72f358",
   "metadata": {},
   "outputs": [],
   "source": [
    "## Escreva e execute seu código aqui\n",
    "# Inicializa uma lista para armazenar os valores\n",
    "valores = []\n",
    "\n",
    "# Loop para ler os 10 valores inteiros positivos\n",
    "print(\"Digite 10 números positivos:\")\n",
    "for _ in range(10):\n",
    "    valor = int(input())\n",
    "    while valor < 0:\n",
    "        print(\"Por favor, digite um número positivo.\")\n",
    "        valor = int(input())\n",
    "    valores.append(valor)\n",
    "\n",
    "# Calcula a média dos valores\n",
    "media = sum(valores) / len(valores)\n",
    "\n",
    "# Imprime a média com duas casas decimais\n",
    "print(\"A média dos valores digitados é {:.2f}\".format(media))\n"
   ]
  },
  {
   "cell_type": "markdown",
   "id": "d62e27ff",
   "metadata": {},
   "source": [
    "### Q4.\n",
    "\n",
    "Você vai criar um sistema que registra os resultados dos jogos do Atlético MG ao longo de um campeonato. Seu sistema vai receber os resultados de todos os jogos do Galo, e deve calcular a pontuação do time sabendo que vitórias valem 3 pontos, empates 1 ponto e derrotas 0 pontos.\n",
    "\n",
    "Entrada: <br>\n",
    "A primeira linha de entrada é um inteiro N com a quantidade jogos do galo. Para cada jogo você deve ler 2 inteiros, o primeiro com a quantidade de gols do galo e o segundo com a quantidade de gols do time oponente. \n",
    "\n",
    "Saída: <br>\n",
    "Apresente a soma de vitórias, empates e derrotas do galo, junto com o cálculo da pontuação total.\n",
    "\n",
    "Ex:\n",
    "```\n",
    "Entrada:\n",
    "4\n",
    "2\n",
    "0\n",
    "1\n",
    "1\n",
    "0\n",
    "3\n",
    "1\n",
    "0\n",
    "\n",
    "Saída:\n",
    "Vitórias: 2\n",
    "Empates: 1\n",
    "Derrotas: 1\n",
    "Pontuação: 7\n",
    "\n",
    "```\n",
    "\n",
    "\n"
   ]
  },
  {
   "cell_type": "code",
   "execution_count": null,
   "id": "d3fdfc2a",
   "metadata": {},
   "outputs": [],
   "source": [
    "## Escreva e execute seu código aqui\n",
    "# Leitura da quantidade de jogos do Atlético MG\n",
    "N = int(input(\"Digite a quantidade de jogos do Atlético MG: \"))\n",
    "\n",
    "# Inicialização das variáveis de contagem\n",
    "vitorias = 0\n",
    "empates = 0\n",
    "derrotas = 0\n",
    "\n",
    "# Leitura dos resultados dos jogos e cálculo da pontuação\n",
    "for _ in range(N):\n",
    "    gols_galo, gols_oponente = map(int, input().split())\n",
    "    if gols_galo > gols_oponente:\n",
    "        vitorias += 1\n",
    "    elif gols_galo == gols_oponente:\n",
    "        empates += 1\n",
    "    else:\n",
    "        derrotas += 1\n",
    "\n",
    "# Cálculo da pontuação total\n",
    "pontuacao_total = vitorias * 3 + empates * 1\n",
    "\n",
    "# Saída dos resultados\n",
    "print(\"Vitórias:\", vitorias)\n",
    "print(\"Empates:\", empates)\n",
    "print(\"Derrotas:\", derrotas)\n",
    "print(\"Pontuação Total:\", pontuacao_total)\n"
   ]
  },
  {
   "cell_type": "markdown",
   "id": "fc98604d",
   "metadata": {},
   "source": [
    "### Q5.\n",
    "\n",
    "Faça um programa que lê dois inteiros N e M, e imprime na tela um campo de batalha naval. O tabuleiro deve possuir N linhas e M colunas. A primeira linha é composta por um espaço em branco e o cabeçalho das colunas, ou seja, valores de 1 a M. As N linhas seguintes iniciam com o cabeçalho da linha, ou seja, seu número, seguido de M caracteres \"/\" (barra) indicando uma possível posição jogável. \n",
    "\n",
    "```\n",
    "Entrada:\n",
    "5\n",
    "4\n",
    "\n",
    "Saída:\n",
    "  1 2 3 4 \n",
    "1 / / / / \n",
    "2 / / / / \n",
    "3 / / / / \n",
    "4 / / / / \n",
    "5 / / / / \n",
    "```\n",
    "\n",
    "Para esse exercício, precisamos lembrar que o comando print implicitamente adiciona uma quebra de linha ao final da impressão. Podemos interferir no final da impressão adicionando mais uma entrada ao print. No exemplo, finalizamos cada linha com um espaço em branco:\n",
    "```python\n",
    "print(\"Texto qualquer\", end = \" \")\n",
    "```"
   ]
  },
  {
   "cell_type": "code",
   "execution_count": null,
   "id": "a60ef197",
   "metadata": {},
   "outputs": [],
   "source": [
    "## Escreva e execute seu código aqui\n",
    "# Leitura dos valores de N e M\n",
    "N = int(input(\"Digite o número de linhas (N): \"))\n",
    "M = int(input(\"Digite o número de colunas (M): \"))\n",
    "\n",
    "# Impressão do cabeçalho das colunas\n",
    "print(\"  \", end=\"\")\n",
    "for j in range(1, M + 1):\n",
    "    print(j, end=\" \")\n",
    "print()\n",
    "\n",
    "# Impressão do campo de batalha\n",
    "for i in range(1, N + 1):\n",
    "    print(i, end=\" \")\n",
    "    for j in range(M):\n",
    "        print(\"/\", end=\" \")\n",
    "    print()\n"
   ]
  },
  {
   "cell_type": "markdown",
   "id": "4654dc0b",
   "metadata": {},
   "source": [
    "---\n",
    "## Break e Continue"
   ]
  },
  {
   "cell_type": "markdown",
   "id": "24fe9d85",
   "metadata": {},
   "source": [
    "### Q6.\n",
    "\n",
    "Escreva um programa que lê uma quantidade indefinida de valores e informa o maior e o menor valor digitados. A leitura é encerrada quando o usuário digitar o valor 0 (zero).\n",
    "\n",
    "```\n",
    "Entrada:\n",
    "12\n",
    "-1\n",
    "29\n",
    "11\n",
    "-5\n",
    "0\n",
    "\n",
    "Saída:\n",
    "Maior: 29\n",
    "Menor: -5\n",
    "```"
   ]
  },
  {
   "cell_type": "code",
   "execution_count": null,
   "id": "ee1c466a",
   "metadata": {},
   "outputs": [],
   "source": [
    "## Escreva e execute seu código aqui\n",
    "# Inicializa as variáveis de máximo e mínimo com None\n",
    "maximo = None\n",
    "minimo = None\n",
    "\n",
    "# Loop para ler os valores e encontrar o máximo e o mínimo\n",
    "while True:\n",
    "    valor = int(input(\"Digite um valor (digite 0 para encerrar): \"))\n",
    "    \n",
    "    # Verifica se a leitura deve ser encerrada\n",
    "    if valor == 0:\n",
    "        break\n",
    "    \n",
    "    # Atualiza o máximo e o mínimo\n",
    "    if maximo is None or valor > maximo:\n",
    "        maximo = valor\n",
    "    if minimo is None or valor < minimo:\n",
    "        minimo = valor\n",
    "\n",
    "# Exibe o maior e o menor valor digitados\n",
    "if maximo is not None:\n",
    "    print(\"O maior valor digitado foi:\", maximo)\n",
    "if minimo is not None:\n",
    "    print(\"O menor valor digitado foi:\", minimo)\n"
   ]
  },
  {
   "cell_type": "markdown",
   "id": "30d486f7",
   "metadata": {},
   "source": [
    "### Q7.\n",
    "\n",
    "Escreva um programa que lê uma quantidade indefinida de valores e informa o **produto** dos valores positivos digitados. A leitura é encerrada quando o usuário digitar o valor 0 (zero).\n",
    "\n",
    "```\n",
    "Entrada:\n",
    "2\n",
    "-1\n",
    "1\n",
    "3\n",
    "-5\n",
    "0\n",
    "\n",
    "Saída:\n",
    "Produto: 6\n",
    "```"
   ]
  },
  {
   "cell_type": "code",
   "execution_count": null,
   "id": "2f1ac324",
   "metadata": {},
   "outputs": [],
   "source": [
    "## Escreva e execute seu código aqui\n",
    "# Inicializa o produto como 1\n",
    "produto = 1\n",
    "\n",
    "# Loop para ler os valores e calcular o produto\n",
    "while True:\n",
    "    valor = int(input(\"Digite um valor (digite 0 para encerrar): \"))\n",
    "    if valor == 0:\n",
    "        break\n",
    "    elif valor > 0:\n",
    "        produto *= valor\n",
    "\n",
    "# Exibe o produto dos valores positivos digitados\n",
    "print(\"O produto dos valores positivos digitados é:\", produto)\n"
   ]
  },
  {
   "cell_type": "markdown",
   "id": "e932f3cf",
   "metadata": {},
   "source": [
    "### Q8.\n",
    "\n",
    "Vamos fazer uma calculadora que aceita expressões aritméticas de qualquer tamanho até que o usuário digite a palavra \"Fim\". Sua calculadora executa apenas as operações \"+\", \"-\".\n",
    "\n",
    "```\n",
    "Entrada:\n",
    "5\n",
    "+\n",
    "8\n",
    "-\n",
    "3\n",
    "+\n",
    "2\n",
    "Fim\n",
    "\n",
    "Saída:\n",
    "12\n",
    "```"
   ]
  },
  {
   "cell_type": "code",
   "execution_count": null,
   "id": "e835d870",
   "metadata": {},
   "outputs": [],
   "source": [
    "## Escreva e execute seu código aqui\n",
    "# Função para avaliar a expressão aritmética\n",
    "def calcular(expressao):\n",
    "    # Divide a expressão em uma lista de operadores e operandos\n",
    "    elementos = expressao.split()\n",
    "\n",
    "    # Inicializa o resultado com o primeiro operando\n",
    "    resultado = int(elementos[0])\n",
    "\n",
    "    # Itera sobre os elementos restantes\n",
    "    for i in range(1, len(elementos), 2):\n",
    "        # Verifica o operador e realiza a operação correspondente\n",
    "        operador = elementos[i]\n",
    "        operando = int(elementos[i + 1])\n",
    "        if operador == '+':\n",
    "            resultado += operando\n",
    "        elif operador == '-':\n",
    "            resultado -= operando\n",
    "\n",
    "    return resultado\n",
    "\n",
    "# Loop para solicitar e calcular expressões aritméticas até que o usuário digite \"Fim\"\n",
    "while True:\n",
    "    expressao = input(\"Digite uma expressão aritmética (ou 'Fim' para sair): \")\n",
    "    if expressao.lower() == 'fim':\n",
    "        break\n",
    "    resultado = calcular(expressao)\n",
    "    print(\"Resultado:\", resultado)\n"
   ]
  }
 ],
 "metadata": {
  "kernelspec": {
   "display_name": "Python 3 (ipykernel)",
   "language": "python",
   "name": "python3"
  },
  "language_info": {
   "codemirror_mode": {
    "name": "ipython",
    "version": 3
   },
   "file_extension": ".py",
   "mimetype": "text/x-python",
   "name": "python",
   "nbconvert_exporter": "python",
   "pygments_lexer": "ipython3",
   "version": "3.9.6"
  }
 },
 "nbformat": 4,
 "nbformat_minor": 5
}
